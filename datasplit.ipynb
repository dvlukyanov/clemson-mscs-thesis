{
 "cells": [
  {
   "cell_type": "code",
   "execution_count": 45,
   "metadata": {},
   "outputs": [],
   "source": [
    "import os\n",
    "import shutil\n",
    "import tarfile\n",
    "import io\n",
    "import pickle as pkl\n",
    "import numpy as np\n",
    "import matplotlib.pyplot as plt"
   ]
  },
  {
   "cell_type": "code",
   "execution_count": 46,
   "metadata": {},
   "outputs": [],
   "source": [
    "data_path = \"data\"\n",
    "data_archive = \"cifar-10-python.tar.gz\"\n",
    "shape = (32, 32, 3)\n",
    "rotations = 3\n",
    "partition_qnt = 10\n",
    "\n",
    "seed = 12345"
   ]
  },
  {
   "cell_type": "markdown",
   "metadata": {},
   "source": [
    "Clean previous data splits:"
   ]
  },
  {
   "cell_type": "code",
   "execution_count": 47,
   "metadata": {},
   "outputs": [
    {
     "name": "stdout",
     "output_type": "stream",
     "text": [
      "Removed: data/test.pkl\n"
     ]
    }
   ],
   "source": [
    "for root, dirs, files in os.walk(data_path):\n",
    "    for file in files:\n",
    "        if file == data_archive:\n",
    "            continue\n",
    "        path = os.path.join(root, file)\n",
    "        os.remove(path)\n",
    "        print(\"Removed: {}\".format(path))\n",
    "    for dir in dirs:\n",
    "        path = os.path.join(root, dir)\n",
    "        shutil.rmtree(path)\n",
    "        print(\"Removed: {}\".format(path))"
   ]
  },
  {
   "cell_type": "markdown",
   "metadata": {},
   "source": [
    "Extract the data batches from the tar-archive into the train and test arrays:"
   ]
  },
  {
   "cell_type": "code",
   "execution_count": 48,
   "metadata": {},
   "outputs": [
    {
     "name": "stdout",
     "output_type": "stream",
     "text": [
      "cifar-10-batches-py/data_batch_1\n",
      "cifar-10-batches-py/data_batch_2\n",
      "cifar-10-batches-py/data_batch_3\n",
      "cifar-10-batches-py/data_batch_4\n",
      "cifar-10-batches-py/data_batch_5\n",
      "cifar-10-batches-py/test_batch\n"
     ]
    }
   ],
   "source": [
    "dataset_tar = tarfile.open(os.path.join(data_path, data_archive), \"r:gz\")\n",
    "\n",
    "content = {\n",
    "    \"train\": [],\n",
    "    \"test\": []\n",
    "}\n",
    "\n",
    "members = [member for member in dataset_tar.getmembers() if member.isfile()]\n",
    "members = sorted(members, key=lambda x: x.name)\n",
    "for member in members:\n",
    "    if \"data_batch_\" in member.name:\n",
    "        print(member.name)\n",
    "        content['train'].append(dataset_tar.extractfile(member).read())\n",
    "    if \"test_batch\" in member.name:\n",
    "        print(member.name)\n",
    "        content['test'].append(dataset_tar.extractfile(member).read())\n",
    "\n",
    "dataset_tar.close()"
   ]
  },
  {
   "cell_type": "markdown",
   "metadata": {},
   "source": [
    "Define some functions:"
   ]
  },
  {
   "cell_type": "code",
   "execution_count": 49,
   "metadata": {},
   "outputs": [],
   "source": [
    "def parse(image_data):\n",
    "    image = np.reshape(image_data, shape, order='F')\n",
    "    return np.rot90(image, rotations)"
   ]
  },
  {
   "cell_type": "markdown",
   "metadata": {},
   "source": [
    "Extract test images:"
   ]
  },
  {
   "cell_type": "code",
   "execution_count": 50,
   "metadata": {},
   "outputs": [
    {
     "name": "stdout",
     "output_type": "stream",
     "text": [
      "Class 3: 1000 images\n",
      "Class 8: 1000 images\n",
      "Class 0: 1000 images\n",
      "Class 6: 1000 images\n",
      "Class 1: 1000 images\n",
      "Class 9: 1000 images\n",
      "Class 5: 1000 images\n",
      "Class 7: 1000 images\n",
      "Class 4: 1000 images\n",
      "Class 2: 1000 images\n"
     ]
    }
   ],
   "source": [
    "test_data = {}\n",
    "\n",
    "for i in range(content['test'].__len__()):\n",
    "    dict = pkl.load(io.BytesIO(content['test'][i]), encoding='bytes')\n",
    "    for j in range(dict[b'labels'].__len__()):\n",
    "        label = dict[b'labels'][j]\n",
    "        if label not in test_data:\n",
    "            test_data[label] = []\n",
    "        image = parse(dict[b'data'][j])\n",
    "        test_data[label].append(image)\n",
    "\n",
    "print('\\n'.join(['Class {}: {} images'.format(key, value.__len__()) for key, value in test_data.items()]))"
   ]
  },
  {
   "cell_type": "markdown",
   "metadata": {},
   "source": [
    "Use a cat to verify extraction:"
   ]
  },
  {
   "cell_type": "code",
   "execution_count": 51,
   "metadata": {},
   "outputs": [
    {
     "data": {
      "text/plain": [
       "<matplotlib.image.AxesImage at 0x11d05d690>"
      ]
     },
     "execution_count": 51,
     "metadata": {},
     "output_type": "execute_result"
    },
    {
     "data": {
      "image/png": "[encoded data removed]",
      "text/plain": [
       "<Figure size 640x480 with 1 Axes>"
      ]
     },
     "metadata": {},
     "output_type": "display_data"
    }
   ],
   "source": [
    "plt.imshow(test_data[3][9])"
   ]
  },
  {
   "cell_type": "markdown",
   "metadata": {},
   "source": [
    "Save extracted data:"
   ]
  },
  {
   "cell_type": "code",
   "execution_count": 52,
   "metadata": {},
   "outputs": [],
   "source": [
    "file_name = f\"test.pkl\"\n",
    "with open(os.path.join(data_path, file_name), 'wb') as file:\n",
    "    pkl.dump(test_data, file)"
   ]
  },
  {
   "cell_type": "markdown",
   "metadata": {},
   "source": [
    "Reuse the cat to verify the saved extracted data:"
   ]
  },
  {
   "cell_type": "code",
   "execution_count": 53,
   "metadata": {},
   "outputs": [
    {
     "data": {
      "text/plain": [
       "<matplotlib.image.AxesImage at 0x12bb6df90>"
      ]
     },
     "execution_count": 53,
     "metadata": {},
     "output_type": "execute_result"
    },
    {
     "data": {
      "image/png": "[encoded data removed]",
      "text/plain": [
       "<Figure size 640x480 with 1 Axes>"
      ]
     },
     "metadata": {},
     "output_type": "display_data"
    }
   ],
   "source": [
    "with open(os.path.join(data_path, file_name), 'rb') as file:\n",
    "    loaded = pkl.load(file)\n",
    "plt.imshow(loaded[3][9])"
   ]
  },
  {
   "cell_type": "markdown",
   "metadata": {},
   "source": [
    "Transform the array of data batches into a nested dictionary {type: class: images}:"
   ]
  },
  {
   "cell_type": "code",
   "execution_count": 54,
   "metadata": {},
   "outputs": [
    {
     "name": "stdout",
     "output_type": "stream",
     "text": [
      "Type train: 10 classes\n",
      "\tClass 6: 5000 images\n",
      "\tClass 9: 5000 images\n",
      "\tClass 4: 5000 images\n",
      "\tClass 1: 5000 images\n",
      "\tClass 2: 5000 images\n",
      "\tClass 7: 5000 images\n",
      "\tClass 8: 5000 images\n",
      "\tClass 3: 5000 images\n",
      "\tClass 5: 5000 images\n",
      "\tClass 0: 5000 images\n",
      "Type test: 10 classes\n",
      "\tClass 3: 1000 images\n",
      "\tClass 8: 1000 images\n",
      "\tClass 0: 1000 images\n",
      "\tClass 6: 1000 images\n",
      "\tClass 1: 1000 images\n",
      "\tClass 9: 1000 images\n",
      "\tClass 5: 1000 images\n",
      "\tClass 7: 1000 images\n",
      "\tClass 4: 1000 images\n",
      "\tClass 2: 1000 images\n"
     ]
    }
   ],
   "source": [
    "def parse(image_data):\n",
    "    image = np.reshape(image_data, shape, order='F')\n",
    "    return np.rot90(image, rotations)\n",
    "\n",
    "data = {\n",
    "    \"train\": {},\n",
    "    \"test\": {}\n",
    "}\n",
    "for key, value in content.items():\n",
    "    for i in range(value.__len__()):\n",
    "        dict = pkl.load(io.BytesIO(value[i]), encoding='bytes')\n",
    "        for j in range(dict[b'labels'].__len__()):\n",
    "            label = dict[b'labels'][j]\n",
    "            if label not in data[key]:\n",
    "                data[key][label] = []\n",
    "            image = parse(dict[b'data'][j])\n",
    "            data[key][label].append(image)\n",
    "\n",
    "print('\\n'.join([\"Type {}: {} classes\\n{}\".format(\n",
    "    key, \n",
    "    len(value), \n",
    "    '\\n'.join([\"\\tClass {}: {} images\".format(k, len(v)) for k, v in value.items()])) \n",
    "    for key, value in data.items()])\n",
    ")"
   ]
  },
  {
   "cell_type": "markdown",
   "metadata": {},
   "source": [
    "Split the data into partitions:"
   ]
  },
  {
   "cell_type": "code",
   "execution_count": 55,
   "metadata": {},
   "outputs": [
    {
     "name": "stdout",
     "output_type": "stream",
     "text": [
      "Partition 0:\n",
      "\tType train:\n",
      "\t\tClass 6: 500 images\n",
      "\t\tClass 9: 500 images\n",
      "\t\tClass 4: 500 images\n",
      "\t\tClass 1: 500 images\n",
      "\t\tClass 2: 500 images\n",
      "\t\tClass 7: 500 images\n",
      "\t\tClass 8: 500 images\n",
      "\t\tClass 3: 500 images\n",
      "\t\tClass 5: 500 images\n",
      "\t\tClass 0: 500 images\n",
      "\tType test:\n",
      "\t\tClass 3: 100 images\n",
      "\t\tClass 8: 100 images\n",
      "\t\tClass 0: 100 images\n",
      "\t\tClass 6: 100 images\n",
      "\t\tClass 1: 100 images\n",
      "\t\tClass 9: 100 images\n",
      "\t\tClass 5: 100 images\n",
      "\t\tClass 7: 100 images\n",
      "\t\tClass 4: 100 images\n",
      "\t\tClass 2: 100 images\n",
      "Partition 1:\n",
      "\tType train:\n",
      "\t\tClass 6: 500 images\n",
      "\t\tClass 9: 500 images\n",
      "\t\tClass 4: 500 images\n",
      "\t\tClass 1: 500 images\n",
      "\t\tClass 2: 500 images\n",
      "\t\tClass 7: 500 images\n",
      "\t\tClass 8: 500 images\n",
      "\t\tClass 3: 500 images\n",
      "\t\tClass 5: 500 images\n",
      "\t\tClass 0: 500 images\n",
      "\tType test:\n",
      "\t\tClass 3: 100 images\n",
      "\t\tClass 8: 100 images\n",
      "\t\tClass 0: 100 images\n",
      "\t\tClass 6: 100 images\n",
      "\t\tClass 1: 100 images\n",
      "\t\tClass 9: 100 images\n",
      "\t\tClass 5: 100 images\n",
      "\t\tClass 7: 100 images\n",
      "\t\tClass 4: 100 images\n",
      "\t\tClass 2: 100 images\n",
      "Partition 2:\n",
      "\tType train:\n",
      "\t\tClass 6: 500 images\n",
      "\t\tClass 9: 500 images\n",
      "\t\tClass 4: 500 images\n",
      "\t\tClass 1: 500 images\n",
      "\t\tClass 2: 500 images\n",
      "\t\tClass 7: 500 images\n",
      "\t\tClass 8: 500 images\n",
      "\t\tClass 3: 500 images\n",
      "\t\tClass 5: 500 images\n",
      "\t\tClass 0: 500 images\n",
      "\tType test:\n",
      "\t\tClass 3: 100 images\n",
      "\t\tClass 8: 100 images\n",
      "\t\tClass 0: 100 images\n",
      "\t\tClass 6: 100 images\n",
      "\t\tClass 1: 100 images\n",
      "\t\tClass 9: 100 images\n",
      "\t\tClass 5: 100 images\n",
      "\t\tClass 7: 100 images\n",
      "\t\tClass 4: 100 images\n",
      "\t\tClass 2: 100 images\n",
      "Partition 3:\n",
      "\tType train:\n",
      "\t\tClass 6: 500 images\n",
      "\t\tClass 9: 500 images\n",
      "\t\tClass 4: 500 images\n",
      "\t\tClass 1: 500 images\n",
      "\t\tClass 2: 500 images\n",
      "\t\tClass 7: 500 images\n",
      "\t\tClass 8: 500 images\n",
      "\t\tClass 3: 500 images\n",
      "\t\tClass 5: 500 images\n",
      "\t\tClass 0: 500 images\n",
      "\tType test:\n",
      "\t\tClass 3: 100 images\n",
      "\t\tClass 8: 100 images\n",
      "\t\tClass 0: 100 images\n",
      "\t\tClass 6: 100 images\n",
      "\t\tClass 1: 100 images\n",
      "\t\tClass 9: 100 images\n",
      "\t\tClass 5: 100 images\n",
      "\t\tClass 7: 100 images\n",
      "\t\tClass 4: 100 images\n",
      "\t\tClass 2: 100 images\n",
      "Partition 4:\n",
      "\tType train:\n",
      "\t\tClass 6: 500 images\n",
      "\t\tClass 9: 500 images\n",
      "\t\tClass 4: 500 images\n",
      "\t\tClass 1: 500 images\n",
      "\t\tClass 2: 500 images\n",
      "\t\tClass 7: 500 images\n",
      "\t\tClass 8: 500 images\n",
      "\t\tClass 3: 500 images\n",
      "\t\tClass 5: 500 images\n",
      "\t\tClass 0: 500 images\n",
      "\tType test:\n",
      "\t\tClass 3: 100 images\n",
      "\t\tClass 8: 100 images\n",
      "\t\tClass 0: 100 images\n",
      "\t\tClass 6: 100 images\n",
      "\t\tClass 1: 100 images\n",
      "\t\tClass 9: 100 images\n",
      "\t\tClass 5: 100 images\n",
      "\t\tClass 7: 100 images\n",
      "\t\tClass 4: 100 images\n",
      "\t\tClass 2: 100 images\n",
      "Partition 5:\n",
      "\tType train:\n",
      "\t\tClass 6: 500 images\n",
      "\t\tClass 9: 500 images\n",
      "\t\tClass 4: 500 images\n",
      "\t\tClass 1: 500 images\n",
      "\t\tClass 2: 500 images\n",
      "\t\tClass 7: 500 images\n",
      "\t\tClass 8: 500 images\n",
      "\t\tClass 3: 500 images\n",
      "\t\tClass 5: 500 images\n",
      "\t\tClass 0: 500 images\n",
      "\tType test:\n",
      "\t\tClass 3: 100 images\n",
      "\t\tClass 8: 100 images\n",
      "\t\tClass 0: 100 images\n",
      "\t\tClass 6: 100 images\n",
      "\t\tClass 1: 100 images\n",
      "\t\tClass 9: 100 images\n",
      "\t\tClass 5: 100 images\n",
      "\t\tClass 7: 100 images\n",
      "\t\tClass 4: 100 images\n",
      "\t\tClass 2: 100 images\n",
      "Partition 6:\n",
      "\tType train:\n",
      "\t\tClass 6: 500 images\n",
      "\t\tClass 9: 500 images\n",
      "\t\tClass 4: 500 images\n",
      "\t\tClass 1: 500 images\n",
      "\t\tClass 2: 500 images\n",
      "\t\tClass 7: 500 images\n",
      "\t\tClass 8: 500 images\n",
      "\t\tClass 3: 500 images\n",
      "\t\tClass 5: 500 images\n",
      "\t\tClass 0: 500 images\n",
      "\tType test:\n",
      "\t\tClass 3: 100 images\n",
      "\t\tClass 8: 100 images\n",
      "\t\tClass 0: 100 images\n",
      "\t\tClass 6: 100 images\n",
      "\t\tClass 1: 100 images\n",
      "\t\tClass 9: 100 images\n",
      "\t\tClass 5: 100 images\n",
      "\t\tClass 7: 100 images\n",
      "\t\tClass 4: 100 images\n",
      "\t\tClass 2: 100 images\n",
      "Partition 7:\n",
      "\tType train:\n",
      "\t\tClass 6: 500 images\n",
      "\t\tClass 9: 500 images\n",
      "\t\tClass 4: 500 images\n",
      "\t\tClass 1: 500 images\n",
      "\t\tClass 2: 500 images\n",
      "\t\tClass 7: 500 images\n",
      "\t\tClass 8: 500 images\n",
      "\t\tClass 3: 500 images\n",
      "\t\tClass 5: 500 images\n",
      "\t\tClass 0: 500 images\n",
      "\tType test:\n",
      "\t\tClass 3: 100 images\n",
      "\t\tClass 8: 100 images\n",
      "\t\tClass 0: 100 images\n",
      "\t\tClass 6: 100 images\n",
      "\t\tClass 1: 100 images\n",
      "\t\tClass 9: 100 images\n",
      "\t\tClass 5: 100 images\n",
      "\t\tClass 7: 100 images\n",
      "\t\tClass 4: 100 images\n",
      "\t\tClass 2: 100 images\n",
      "Partition 8:\n",
      "\tType train:\n",
      "\t\tClass 6: 500 images\n",
      "\t\tClass 9: 500 images\n",
      "\t\tClass 4: 500 images\n",
      "\t\tClass 1: 500 images\n",
      "\t\tClass 2: 500 images\n",
      "\t\tClass 7: 500 images\n",
      "\t\tClass 8: 500 images\n",
      "\t\tClass 3: 500 images\n",
      "\t\tClass 5: 500 images\n",
      "\t\tClass 0: 500 images\n",
      "\tType test:\n",
      "\t\tClass 3: 100 images\n",
      "\t\tClass 8: 100 images\n",
      "\t\tClass 0: 100 images\n",
      "\t\tClass 6: 100 images\n",
      "\t\tClass 1: 100 images\n",
      "\t\tClass 9: 100 images\n",
      "\t\tClass 5: 100 images\n",
      "\t\tClass 7: 100 images\n",
      "\t\tClass 4: 100 images\n",
      "\t\tClass 2: 100 images\n",
      "Partition 9:\n",
      "\tType train:\n",
      "\t\tClass 6: 500 images\n",
      "\t\tClass 9: 500 images\n",
      "\t\tClass 4: 500 images\n",
      "\t\tClass 1: 500 images\n",
      "\t\tClass 2: 500 images\n",
      "\t\tClass 7: 500 images\n",
      "\t\tClass 8: 500 images\n",
      "\t\tClass 3: 500 images\n",
      "\t\tClass 5: 500 images\n",
      "\t\tClass 0: 500 images\n",
      "\tType test:\n",
      "\t\tClass 3: 100 images\n",
      "\t\tClass 8: 100 images\n",
      "\t\tClass 0: 100 images\n",
      "\t\tClass 6: 100 images\n",
      "\t\tClass 1: 100 images\n",
      "\t\tClass 9: 100 images\n",
      "\t\tClass 5: 100 images\n",
      "\t\tClass 7: 100 images\n",
      "\t\tClass 4: 100 images\n",
      "\t\tClass 2: 100 images\n"
     ]
    }
   ],
   "source": [
    "partitions = [{\"train\": {}, \"test\": {}} for _ in range(partition_qnt)]\n",
    "\n",
    "for type, classes in data.items():\n",
    "    indices = np.arange(len(classes[0]))\n",
    "    np.random.seed(seed)\n",
    "    np.random.shuffle(indices)\n",
    "    for i in range(partition_qnt):\n",
    "        for label, images in classes.items():\n",
    "            partitions[i][type][label] = [classes[label][idx] for idx in indices[i*len(images)//partition_qnt:(i+1)*len(images)//partition_qnt]]\n",
    "        \n",
    "print('\\n'.join([f\"Partition {part_idx}:\\n\" + '\\n'.join([f\"\\tType {type}:\\n\\t\\t\" + '\\n\\t\\t'.join([f\"Class {label}: {len(images)} images\" for label, images in classes.items()]) \n",
    "                                                         for type, classes in part.items()]) \n",
    "                 for part_idx, part in enumerate(partitions)]))"
   ]
  },
  {
   "cell_type": "markdown",
   "metadata": {},
   "source": [
    "Use a cat to verify [partition, type, class, item] structure:"
   ]
  },
  {
   "cell_type": "code",
   "execution_count": 56,
   "metadata": {},
   "outputs": [
    {
     "data": {
      "text/plain": [
       "<matplotlib.image.AxesImage at 0x12b81de50>"
      ]
     },
     "execution_count": 56,
     "metadata": {},
     "output_type": "execute_result"
    },
    {
     "data": {
      "image/png": "[encoded data removed]",
      "text/plain": [
       "<Figure size 640x480 with 1 Axes>"
      ]
     },
     "metadata": {},
     "output_type": "display_data"
    }
   ],
   "source": [
    "plt.imshow(partitions[0]['train'][3][65])"
   ]
  },
  {
   "cell_type": "markdown",
   "metadata": {},
   "source": [
    "Save the partitioned data:"
   ]
  },
  {
   "cell_type": "code",
   "execution_count": 57,
   "metadata": {},
   "outputs": [],
   "source": [
    "for partition_name, partition_data in enumerate(partitions):\n",
    "    file_name = f\"partition_{partition_name}.pkl\"\n",
    "    with open(os.path.join(data_path, file_name), 'wb') as file:\n",
    "        pkl.dump(partition_data, file)"
   ]
  },
  {
   "cell_type": "markdown",
   "metadata": {},
   "source": [
    "Reuse the cat to verify the saved data:"
   ]
  },
  {
   "cell_type": "code",
   "execution_count": 58,
   "metadata": {},
   "outputs": [
    {
     "data": {
      "text/plain": [
       "<matplotlib.image.AxesImage at 0x12cd35e50>"
      ]
     },
     "execution_count": 58,
     "metadata": {},
     "output_type": "execute_result"
    },
    {
     "data": {
      "image/png": "[encoded data removed]",
      "text/plain": [
       "<Figure size 640x480 with 1 Axes>"
      ]
     },
     "metadata": {},
     "output_type": "display_data"
    }
   ],
   "source": [
    "with open(os.path.join(data_path, 'partition_0.pkl'), 'rb') as file:\n",
    "    loaded = pkl.load(file)\n",
    "plt.imshow(loaded['train'][3][65])"
   ]
  }
 ],
 "metadata": {
  "kernelspec": {
   "display_name": "thesis",
   "language": "python",
   "name": "python3"
  },
  "language_info": {
   "codemirror_mode": {
    "name": "ipython",
    "version": 3
   },
   "file_extension": ".py",
   "mimetype": "text/x-python",
   "name": "python",
   "nbconvert_exporter": "python",
   "pygments_lexer": "ipython3",
   "version": "3.11.0"
  }
 },
 "nbformat": 4,
 "nbformat_minor": 2
}
