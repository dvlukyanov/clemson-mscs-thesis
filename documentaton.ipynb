{
 "cells": [
  {
   "cell_type": "markdown",
   "metadata": {},
   "source": [
    "title Federated Learning (naive)\n",
    "\n",
    "participant Server\n",
    "participant [Client]\n",
    "participant Storage/Server\n",
    "participant Storage/Client\n",
    "\n",
    "Server->>Server: init model\n",
    "loop\n",
    "  Server-->Storage/Server: store new model\n",
    "  Server-->[Client]: notify about new model\n",
    "  [Client]->Storage/Server: get new model\n",
    "  Storage/Server->>[Client]: new model\n",
    "  [Client]->[Client]: train model\n",
    "  [Client]-->Storage/Client: store model\n",
    "  [Client]-->Server: notify about new model\n",
    "  box over Server, Storage/Client: all clients finished\n",
    "  Server->Storage/Client: get new models\n",
    "  Storage/Client->>Server: new models\n",
    "  Server->Server: aggregate new models into one\n",
    "end"
   ]
  }
 ],
 "metadata": {
  "language_info": {
   "name": "python"
  }
 },
 "nbformat": 4,
 "nbformat_minor": 2
}
