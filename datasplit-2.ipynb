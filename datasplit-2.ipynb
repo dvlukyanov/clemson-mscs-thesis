{
 "cells": [
  {
   "cell_type": "code",
   "execution_count": 90,
   "metadata": {},
   "outputs": [],
   "source": [
    "import os\n",
    "import shutil\n",
    "import tarfile\n",
    "import io\n",
    "import pickle as pkl\n",
    "import numpy as np\n",
    "import random\n",
    "import matplotlib.pyplot as plt"
   ]
  },
  {
   "cell_type": "code",
   "execution_count": 91,
   "metadata": {},
   "outputs": [],
   "source": [
    "data_path = \"storage/data2\"\n",
    "data_archive = \"cifar-10-python.tar.gz\"\n",
    "shape = (32, 32, 3)\n",
    "rotations = 3\n",
    "partition_qnt = 20\n",
    "img_kt_per_class = 700\n",
    "\n",
    "seed = 12345"
   ]
  },
  {
   "cell_type": "markdown",
   "metadata": {},
   "source": [
    "Clean previous data splits:"
   ]
  },
  {
   "cell_type": "code",
   "execution_count": 92,
   "metadata": {},
   "outputs": [
    {
     "name": "stdout",
     "output_type": "stream",
     "text": [
      "Removed: storage/data3/partition_14.pkl\n",
      "Removed: storage/data3/partition_28.pkl\n",
      "Removed: storage/data3/partition_29.pkl\n",
      "Removed: storage/data3/partition_15.pkl\n",
      "Removed: storage/data3/partition_17.pkl\n",
      "Removed: storage/data3/partition_16.pkl\n",
      "Removed: storage/data3/partition_12.pkl\n",
      "Removed: storage/data3/partition_13.pkl\n",
      "Removed: storage/data3/partition_39.pkl\n",
      "Removed: storage/data3/partition_11.pkl\n",
      "Removed: storage/data3/partition_10.pkl\n",
      "Removed: storage/data3/partition_38.pkl\n",
      "Removed: storage/data3/partition_3.pkl\n",
      "Removed: storage/data3/partition_2.pkl\n",
      "Removed: storage/data3/partition_1.pkl\n",
      "Removed: storage/data3/partition_5.pkl\n",
      "Removed: storage/data3/kt.pkl\n",
      "Removed: storage/data3/partition_4.pkl\n",
      "Removed: storage/data3/partition_6.pkl\n",
      "Removed: storage/data3/partition_7.pkl\n",
      "Removed: storage/data3/partition_9.pkl\n",
      "Removed: storage/data3/test.pkl\n",
      "Removed: storage/data3/partition_40.pkl\n",
      "Removed: storage/data3/partition_8.pkl\n",
      "Removed: storage/data3/partition_21.pkl\n",
      "Removed: storage/data3/partition_35.pkl\n",
      "Removed: storage/data3/partition_34.pkl\n",
      "Removed: storage/data3/partition_20.pkl\n",
      "Removed: storage/data3/partition_36.pkl\n",
      "Removed: storage/data3/partition_22.pkl\n",
      "Removed: storage/data3/partition_23.pkl\n",
      "Removed: storage/data3/partition_37.pkl\n",
      "Removed: storage/data3/partition_33.pkl\n",
      "Removed: storage/data3/partition_27.pkl\n",
      "Removed: storage/data3/partition_26.pkl\n",
      "Removed: storage/data3/partition_32.pkl\n",
      "Removed: storage/data3/partition_18.pkl\n",
      "Removed: storage/data3/partition_24.pkl\n",
      "Removed: storage/data3/partition_30.pkl\n",
      "Removed: storage/data3/partition_31.pkl\n",
      "Removed: storage/data3/partition_25.pkl\n",
      "Removed: storage/data3/partition_19.pkl\n"
     ]
    }
   ],
   "source": [
    "for root, dirs, files in os.walk(data_path):\n",
    "    for file in files:\n",
    "        if file == data_archive:\n",
    "            continue\n",
    "        path = os.path.join(root, file)\n",
    "        os.remove(path)\n",
    "        print(\"Removed: {}\".format(path))\n",
    "    for dir in dirs:\n",
    "        path = os.path.join(root, dir)\n",
    "        shutil.rmtree(path)\n",
    "        print(\"Removed: {}\".format(path))"
   ]
  },
  {
   "cell_type": "markdown",
   "metadata": {},
   "source": [
    "Extract the data batches from the tar-archive into the train and test arrays:"
   ]
  },
  {
   "cell_type": "code",
   "execution_count": 93,
   "metadata": {},
   "outputs": [
    {
     "name": "stdout",
     "output_type": "stream",
     "text": [
      "cifar-10-batches-py/data_batch_1\n",
      "cifar-10-batches-py/data_batch_2\n",
      "cifar-10-batches-py/data_batch_3\n",
      "cifar-10-batches-py/data_batch_4\n",
      "cifar-10-batches-py/data_batch_5\n",
      "cifar-10-batches-py/test_batch\n"
     ]
    }
   ],
   "source": [
    "dataset_tar = tarfile.open(os.path.join(data_path, data_archive), \"r:gz\")\n",
    "\n",
    "content = {\n",
    "    \"train\": [],\n",
    "    \"test\": []\n",
    "}\n",
    "\n",
    "members = [member for member in dataset_tar.getmembers() if member.isfile()]\n",
    "members = sorted(members, key=lambda x: x.name)\n",
    "for member in members:\n",
    "    if \"data_batch_\" in member.name:\n",
    "        print(member.name)\n",
    "        content['train'].append(dataset_tar.extractfile(member).read())\n",
    "    if \"test_batch\" in member.name:\n",
    "        print(member.name)\n",
    "        content['test'].append(dataset_tar.extractfile(member).read())\n",
    "\n",
    "dataset_tar.close()"
   ]
  },
  {
   "cell_type": "markdown",
   "metadata": {},
   "source": [
    "Define some functions:"
   ]
  },
  {
   "cell_type": "code",
   "execution_count": 94,
   "metadata": {},
   "outputs": [],
   "source": [
    "def parse(image_data):\n",
    "    image = np.reshape(image_data, shape, order='F')\n",
    "    return np.rot90(image, rotations)"
   ]
  },
  {
   "cell_type": "markdown",
   "metadata": {},
   "source": [
    "Extract test images:"
   ]
  },
  {
   "cell_type": "code",
   "execution_count": 95,
   "metadata": {},
   "outputs": [
    {
     "name": "stdout",
     "output_type": "stream",
     "text": [
      "Class 3: 1000 images\n",
      "Class 8: 1000 images\n",
      "Class 0: 1000 images\n",
      "Class 6: 1000 images\n",
      "Class 1: 1000 images\n",
      "Class 9: 1000 images\n",
      "Class 5: 1000 images\n",
      "Class 7: 1000 images\n",
      "Class 4: 1000 images\n",
      "Class 2: 1000 images\n"
     ]
    }
   ],
   "source": [
    "test_data = {}\n",
    "\n",
    "for i in range(content['test'].__len__()):\n",
    "    dict = pkl.load(io.BytesIO(content['test'][i]), encoding='bytes')\n",
    "    for j in range(dict[b'labels'].__len__()):\n",
    "        label = dict[b'labels'][j]\n",
    "        if label not in test_data:\n",
    "            test_data[label] = []\n",
    "        image = parse(dict[b'data'][j])\n",
    "        test_data[label].append(image)\n",
    "\n",
    "print('\\n'.join(['Class {}: {} images'.format(key, value.__len__()) for key, value in test_data.items()]))"
   ]
  },
  {
   "cell_type": "markdown",
   "metadata": {},
   "source": [
    "Use a cat to verify extraction:"
   ]
  },
  {
   "cell_type": "code",
   "execution_count": 96,
   "metadata": {},
   "outputs": [
    {
     "data": {
      "text/plain": [
       "<matplotlib.image.AxesImage at 0x118faabd0>"
      ]
     },
     "execution_count": 96,
     "metadata": {},
     "output_type": "execute_result"
    },
    {
     "data": {
      "image/png": "[encoded data removed]",
      "text/plain": [
       "<Figure size 640x480 with 1 Axes>"
      ]
     },
     "metadata": {},
     "output_type": "display_data"
    }
   ],
   "source": [
    "plt.imshow(test_data[3][9])"
   ]
  },
  {
   "cell_type": "code",
   "execution_count": 97,
   "metadata": {},
   "outputs": [
    {
     "name": "stdout",
     "output_type": "stream",
     "text": [
      "Class 3: 300 test images\n",
      "Class 8: 300 test images\n",
      "Class 0: 300 test images\n",
      "Class 6: 300 test images\n",
      "Class 1: 300 test images\n",
      "Class 9: 300 test images\n",
      "Class 5: 300 test images\n",
      "Class 7: 300 test images\n",
      "Class 4: 300 test images\n",
      "Class 2: 300 test images\n"
     ]
    }
   ],
   "source": [
    "data_val = {}\n",
    "\n",
    "for k, v in test_data.items():\n",
    "    data_val[k] = v[:len(v) - img_kt_per_class]\n",
    "\n",
    "print('\\n'.join(['Class {}: {} test images'.format(key, value.__len__()) for key, value in data_val.items()]))"
   ]
  },
  {
   "cell_type": "markdown",
   "metadata": {},
   "source": [
    "Save extracted data:"
   ]
  },
  {
   "cell_type": "code",
   "execution_count": 98,
   "metadata": {},
   "outputs": [],
   "source": [
    "file_name = f\"test.pkl\"\n",
    "with open(os.path.join(data_path, file_name), 'wb') as file:\n",
    "    pkl.dump(data_val, file)"
   ]
  },
  {
   "cell_type": "markdown",
   "metadata": {},
   "source": [
    "Reuse the cat to verify the saved extracted data:"
   ]
  },
  {
   "cell_type": "code",
   "execution_count": 99,
   "metadata": {},
   "outputs": [
    {
     "data": {
      "text/plain": [
       "<matplotlib.image.AxesImage at 0x117cd8fd0>"
      ]
     },
     "execution_count": 99,
     "metadata": {},
     "output_type": "execute_result"
    },
    {
     "data": {
      "image/png": "[encoded data removed]",
      "text/plain": [
       "<Figure size 640x480 with 1 Axes>"
      ]
     },
     "metadata": {},
     "output_type": "display_data"
    }
   ],
   "source": [
    "with open(os.path.join(data_path, file_name), 'rb') as file:\n",
    "    loaded = pkl.load(file)\n",
    "plt.imshow(loaded[3][9])"
   ]
  },
  {
   "cell_type": "code",
   "execution_count": 100,
   "metadata": {},
   "outputs": [
    {
     "name": "stdout",
     "output_type": "stream",
     "text": [
      "Class 3: 700 test images\n",
      "Class 8: 700 test images\n",
      "Class 0: 700 test images\n",
      "Class 6: 700 test images\n",
      "Class 1: 700 test images\n",
      "Class 9: 700 test images\n",
      "Class 5: 700 test images\n",
      "Class 7: 700 test images\n",
      "Class 4: 700 test images\n",
      "Class 2: 700 test images\n"
     ]
    }
   ],
   "source": [
    "data_kt_tmp = {}\n",
    "\n",
    "for k, v in test_data.items():\n",
    "    data_kt_tmp[k] = v[len(v) - img_kt_per_class:]\n",
    "\n",
    "print('\\n'.join(['Class {}: {} test images'.format(key, value.__len__()) for key, value in data_kt_tmp.items()]))"
   ]
  },
  {
   "cell_type": "code",
   "execution_count": 101,
   "metadata": {},
   "outputs": [
    {
     "name": "stdout",
     "output_type": "stream",
     "text": [
      "Type train: 10 classes\n",
      "\tClass 3: 560 images\n",
      "\tClass 8: 560 images\n",
      "\tClass 0: 560 images\n",
      "\tClass 6: 560 images\n",
      "\tClass 1: 560 images\n",
      "\tClass 9: 560 images\n",
      "\tClass 5: 560 images\n",
      "\tClass 7: 560 images\n",
      "\tClass 4: 560 images\n",
      "\tClass 2: 560 images\n",
      "Type test: 10 classes\n",
      "\tClass 3: 140 images\n",
      "\tClass 8: 140 images\n",
      "\tClass 0: 140 images\n",
      "\tClass 6: 140 images\n",
      "\tClass 1: 140 images\n",
      "\tClass 9: 140 images\n",
      "\tClass 5: 140 images\n",
      "\tClass 7: 140 images\n",
      "\tClass 4: 140 images\n",
      "\tClass 2: 140 images\n"
     ]
    }
   ],
   "source": [
    "data_kt = {\n",
    "    'train': {},\n",
    "    'test': {}\n",
    "}\n",
    "for k, v in data_kt_tmp.items():\n",
    "    if k not in data_kt['train']:\n",
    "        data_kt['train'][k] = []\n",
    "        data_kt['test'][k] = []\n",
    "    random.shuffle(v)\n",
    "    data_kt['train'][k] = v[int(len(v) * 0.2):]\n",
    "    data_kt['test'][k] = v[:int(len(v) * 0.2)]\n",
    "\n",
    "print('\\n'.join([\"Type {}: {} classes\\n{}\".format(\n",
    "    key, \n",
    "    len(value), \n",
    "    '\\n'.join([\"\\tClass {}: {} images\".format(k, len(v)) for k, v in value.items()])) \n",
    "    for key, value in data_kt.items()])\n",
    ")"
   ]
  },
  {
   "cell_type": "code",
   "execution_count": 102,
   "metadata": {},
   "outputs": [],
   "source": [
    "file_name = f\"kt.pkl\"\n",
    "with open(os.path.join(data_path, file_name), 'wb') as file:\n",
    "    pkl.dump(data_kt, file)"
   ]
  },
  {
   "cell_type": "markdown",
   "metadata": {},
   "source": [
    "Transform the array of data batches into a nested dictionary {type: class: images}:"
   ]
  },
  {
   "cell_type": "code",
   "execution_count": 103,
   "metadata": {},
   "outputs": [
    {
     "name": "stdout",
     "output_type": "stream",
     "text": [
      "Type train: 10 classes\n",
      "\tClass 6: 4000 images\n",
      "\tClass 9: 4000 images\n",
      "\tClass 4: 4000 images\n",
      "\tClass 1: 4000 images\n",
      "\tClass 2: 4000 images\n",
      "\tClass 7: 4000 images\n",
      "\tClass 8: 4000 images\n",
      "\tClass 3: 4000 images\n",
      "\tClass 5: 4000 images\n",
      "\tClass 0: 4000 images\n",
      "Type test: 10 classes\n",
      "\tClass 6: 1000 images\n",
      "\tClass 9: 1000 images\n",
      "\tClass 4: 1000 images\n",
      "\tClass 1: 1000 images\n",
      "\tClass 2: 1000 images\n",
      "\tClass 7: 1000 images\n",
      "\tClass 8: 1000 images\n",
      "\tClass 3: 1000 images\n",
      "\tClass 5: 1000 images\n",
      "\tClass 0: 1000 images\n"
     ]
    }
   ],
   "source": [
    "data_train_tmp = {}\n",
    "\n",
    "for tf in range(len(content['train'])):\n",
    "    dict = pkl.load(io.BytesIO(content['train'][tf]), encoding='bytes')\n",
    "    for j in range(len(dict[b'labels'])):\n",
    "        label = dict[b'labels'][j]\n",
    "        if label not in data_train_tmp:\n",
    "            data_train_tmp[label] = []\n",
    "        image = parse(dict[b'data'][j])\n",
    "        data_train_tmp[label].append(image)\n",
    "\n",
    "data_train = {\n",
    "    'train': {},\n",
    "    'test': {}\n",
    "}\n",
    "for k, v in data_train_tmp.items():\n",
    "    if k not in data_train['train']:\n",
    "        data_train['train'][k] = []\n",
    "        data_train['test'][k] = []\n",
    "    random.shuffle(v)\n",
    "    data_train['train'][k] = v[int(len(v) * 0.2):]\n",
    "    data_train['test'][k] = v[:int(len(v) * 0.2)]\n",
    "\n",
    "print('\\n'.join([\"Type {}: {} classes\\n{}\".format(\n",
    "    key, \n",
    "    len(value), \n",
    "    '\\n'.join([\"\\tClass {}: {} images\".format(k, len(v)) for k, v in value.items()])) \n",
    "    for key, value in data_train.items()])\n",
    ")"
   ]
  },
  {
   "cell_type": "markdown",
   "metadata": {},
   "source": [
    "Split the data into partitions:"
   ]
  },
  {
   "cell_type": "code",
   "execution_count": 104,
   "metadata": {},
   "outputs": [
    {
     "name": "stdout",
     "output_type": "stream",
     "text": [
      "Partition 0:\n",
      "\tType train:\n",
      "\t\tClass 6: 200 images\n",
      "\t\tClass 9: 200 images\n",
      "\t\tClass 4: 200 images\n",
      "\t\tClass 1: 200 images\n",
      "\t\tClass 2: 200 images\n",
      "\t\tClass 7: 200 images\n",
      "\t\tClass 8: 200 images\n",
      "\t\tClass 3: 200 images\n",
      "\t\tClass 5: 200 images\n",
      "\t\tClass 0: 200 images\n",
      "\tType test:\n",
      "\t\tClass 6: 50 images\n",
      "\t\tClass 9: 50 images\n",
      "\t\tClass 4: 50 images\n",
      "\t\tClass 1: 50 images\n",
      "\t\tClass 2: 50 images\n",
      "\t\tClass 7: 50 images\n",
      "\t\tClass 8: 50 images\n",
      "\t\tClass 3: 50 images\n",
      "\t\tClass 5: 50 images\n",
      "\t\tClass 0: 50 images\n",
      "Partition 1:\n",
      "\tType train:\n",
      "\t\tClass 6: 200 images\n",
      "\t\tClass 9: 200 images\n",
      "\t\tClass 4: 200 images\n",
      "\t\tClass 1: 200 images\n",
      "\t\tClass 2: 200 images\n",
      "\t\tClass 7: 200 images\n",
      "\t\tClass 8: 200 images\n",
      "\t\tClass 3: 200 images\n",
      "\t\tClass 5: 200 images\n",
      "\t\tClass 0: 200 images\n",
      "\tType test:\n",
      "\t\tClass 6: 50 images\n",
      "\t\tClass 9: 50 images\n",
      "\t\tClass 4: 50 images\n",
      "\t\tClass 1: 50 images\n",
      "\t\tClass 2: 50 images\n",
      "\t\tClass 7: 50 images\n",
      "\t\tClass 8: 50 images\n",
      "\t\tClass 3: 50 images\n",
      "\t\tClass 5: 50 images\n",
      "\t\tClass 0: 50 images\n",
      "Partition 2:\n",
      "\tType train:\n",
      "\t\tClass 6: 200 images\n",
      "\t\tClass 9: 200 images\n",
      "\t\tClass 4: 200 images\n",
      "\t\tClass 1: 200 images\n",
      "\t\tClass 2: 200 images\n",
      "\t\tClass 7: 200 images\n",
      "\t\tClass 8: 200 images\n",
      "\t\tClass 3: 200 images\n",
      "\t\tClass 5: 200 images\n",
      "\t\tClass 0: 200 images\n",
      "\tType test:\n",
      "\t\tClass 6: 50 images\n",
      "\t\tClass 9: 50 images\n",
      "\t\tClass 4: 50 images\n",
      "\t\tClass 1: 50 images\n",
      "\t\tClass 2: 50 images\n",
      "\t\tClass 7: 50 images\n",
      "\t\tClass 8: 50 images\n",
      "\t\tClass 3: 50 images\n",
      "\t\tClass 5: 50 images\n",
      "\t\tClass 0: 50 images\n",
      "Partition 3:\n",
      "\tType train:\n",
      "\t\tClass 6: 200 images\n",
      "\t\tClass 9: 200 images\n",
      "\t\tClass 4: 200 images\n",
      "\t\tClass 1: 200 images\n",
      "\t\tClass 2: 200 images\n",
      "\t\tClass 7: 200 images\n",
      "\t\tClass 8: 200 images\n",
      "\t\tClass 3: 200 images\n",
      "\t\tClass 5: 200 images\n",
      "\t\tClass 0: 200 images\n",
      "\tType test:\n",
      "\t\tClass 6: 50 images\n",
      "\t\tClass 9: 50 images\n",
      "\t\tClass 4: 50 images\n",
      "\t\tClass 1: 50 images\n",
      "\t\tClass 2: 50 images\n",
      "\t\tClass 7: 50 images\n",
      "\t\tClass 8: 50 images\n",
      "\t\tClass 3: 50 images\n",
      "\t\tClass 5: 50 images\n",
      "\t\tClass 0: 50 images\n",
      "Partition 4:\n",
      "\tType train:\n",
      "\t\tClass 6: 200 images\n",
      "\t\tClass 9: 200 images\n",
      "\t\tClass 4: 200 images\n",
      "\t\tClass 1: 200 images\n",
      "\t\tClass 2: 200 images\n",
      "\t\tClass 7: 200 images\n",
      "\t\tClass 8: 200 images\n",
      "\t\tClass 3: 200 images\n",
      "\t\tClass 5: 200 images\n",
      "\t\tClass 0: 200 images\n",
      "\tType test:\n",
      "\t\tClass 6: 50 images\n",
      "\t\tClass 9: 50 images\n",
      "\t\tClass 4: 50 images\n",
      "\t\tClass 1: 50 images\n",
      "\t\tClass 2: 50 images\n",
      "\t\tClass 7: 50 images\n",
      "\t\tClass 8: 50 images\n",
      "\t\tClass 3: 50 images\n",
      "\t\tClass 5: 50 images\n",
      "\t\tClass 0: 50 images\n",
      "Partition 5:\n",
      "\tType train:\n",
      "\t\tClass 6: 200 images\n",
      "\t\tClass 9: 200 images\n",
      "\t\tClass 4: 200 images\n",
      "\t\tClass 1: 200 images\n",
      "\t\tClass 2: 200 images\n",
      "\t\tClass 7: 200 images\n",
      "\t\tClass 8: 200 images\n",
      "\t\tClass 3: 200 images\n",
      "\t\tClass 5: 200 images\n",
      "\t\tClass 0: 200 images\n",
      "\tType test:\n",
      "\t\tClass 6: 50 images\n",
      "\t\tClass 9: 50 images\n",
      "\t\tClass 4: 50 images\n",
      "\t\tClass 1: 50 images\n",
      "\t\tClass 2: 50 images\n",
      "\t\tClass 7: 50 images\n",
      "\t\tClass 8: 50 images\n",
      "\t\tClass 3: 50 images\n",
      "\t\tClass 5: 50 images\n",
      "\t\tClass 0: 50 images\n",
      "Partition 6:\n",
      "\tType train:\n",
      "\t\tClass 6: 200 images\n",
      "\t\tClass 9: 200 images\n",
      "\t\tClass 4: 200 images\n",
      "\t\tClass 1: 200 images\n",
      "\t\tClass 2: 200 images\n",
      "\t\tClass 7: 200 images\n",
      "\t\tClass 8: 200 images\n",
      "\t\tClass 3: 200 images\n",
      "\t\tClass 5: 200 images\n",
      "\t\tClass 0: 200 images\n",
      "\tType test:\n",
      "\t\tClass 6: 50 images\n",
      "\t\tClass 9: 50 images\n",
      "\t\tClass 4: 50 images\n",
      "\t\tClass 1: 50 images\n",
      "\t\tClass 2: 50 images\n",
      "\t\tClass 7: 50 images\n",
      "\t\tClass 8: 50 images\n",
      "\t\tClass 3: 50 images\n",
      "\t\tClass 5: 50 images\n",
      "\t\tClass 0: 50 images\n",
      "Partition 7:\n",
      "\tType train:\n",
      "\t\tClass 6: 200 images\n",
      "\t\tClass 9: 200 images\n",
      "\t\tClass 4: 200 images\n",
      "\t\tClass 1: 200 images\n",
      "\t\tClass 2: 200 images\n",
      "\t\tClass 7: 200 images\n",
      "\t\tClass 8: 200 images\n",
      "\t\tClass 3: 200 images\n",
      "\t\tClass 5: 200 images\n",
      "\t\tClass 0: 200 images\n",
      "\tType test:\n",
      "\t\tClass 6: 50 images\n",
      "\t\tClass 9: 50 images\n",
      "\t\tClass 4: 50 images\n",
      "\t\tClass 1: 50 images\n",
      "\t\tClass 2: 50 images\n",
      "\t\tClass 7: 50 images\n",
      "\t\tClass 8: 50 images\n",
      "\t\tClass 3: 50 images\n",
      "\t\tClass 5: 50 images\n",
      "\t\tClass 0: 50 images\n",
      "Partition 8:\n",
      "\tType train:\n",
      "\t\tClass 6: 200 images\n",
      "\t\tClass 9: 200 images\n",
      "\t\tClass 4: 200 images\n",
      "\t\tClass 1: 200 images\n",
      "\t\tClass 2: 200 images\n",
      "\t\tClass 7: 200 images\n",
      "\t\tClass 8: 200 images\n",
      "\t\tClass 3: 200 images\n",
      "\t\tClass 5: 200 images\n",
      "\t\tClass 0: 200 images\n",
      "\tType test:\n",
      "\t\tClass 6: 50 images\n",
      "\t\tClass 9: 50 images\n",
      "\t\tClass 4: 50 images\n",
      "\t\tClass 1: 50 images\n",
      "\t\tClass 2: 50 images\n",
      "\t\tClass 7: 50 images\n",
      "\t\tClass 8: 50 images\n",
      "\t\tClass 3: 50 images\n",
      "\t\tClass 5: 50 images\n",
      "\t\tClass 0: 50 images\n",
      "Partition 9:\n",
      "\tType train:\n",
      "\t\tClass 6: 200 images\n",
      "\t\tClass 9: 200 images\n",
      "\t\tClass 4: 200 images\n",
      "\t\tClass 1: 200 images\n",
      "\t\tClass 2: 200 images\n",
      "\t\tClass 7: 200 images\n",
      "\t\tClass 8: 200 images\n",
      "\t\tClass 3: 200 images\n",
      "\t\tClass 5: 200 images\n",
      "\t\tClass 0: 200 images\n",
      "\tType test:\n",
      "\t\tClass 6: 50 images\n",
      "\t\tClass 9: 50 images\n",
      "\t\tClass 4: 50 images\n",
      "\t\tClass 1: 50 images\n",
      "\t\tClass 2: 50 images\n",
      "\t\tClass 7: 50 images\n",
      "\t\tClass 8: 50 images\n",
      "\t\tClass 3: 50 images\n",
      "\t\tClass 5: 50 images\n",
      "\t\tClass 0: 50 images\n",
      "Partition 10:\n",
      "\tType train:\n",
      "\t\tClass 6: 200 images\n",
      "\t\tClass 9: 200 images\n",
      "\t\tClass 4: 200 images\n",
      "\t\tClass 1: 200 images\n",
      "\t\tClass 2: 200 images\n",
      "\t\tClass 7: 200 images\n",
      "\t\tClass 8: 200 images\n",
      "\t\tClass 3: 200 images\n",
      "\t\tClass 5: 200 images\n",
      "\t\tClass 0: 200 images\n",
      "\tType test:\n",
      "\t\tClass 6: 50 images\n",
      "\t\tClass 9: 50 images\n",
      "\t\tClass 4: 50 images\n",
      "\t\tClass 1: 50 images\n",
      "\t\tClass 2: 50 images\n",
      "\t\tClass 7: 50 images\n",
      "\t\tClass 8: 50 images\n",
      "\t\tClass 3: 50 images\n",
      "\t\tClass 5: 50 images\n",
      "\t\tClass 0: 50 images\n",
      "Partition 11:\n",
      "\tType train:\n",
      "\t\tClass 6: 200 images\n",
      "\t\tClass 9: 200 images\n",
      "\t\tClass 4: 200 images\n",
      "\t\tClass 1: 200 images\n",
      "\t\tClass 2: 200 images\n",
      "\t\tClass 7: 200 images\n",
      "\t\tClass 8: 200 images\n",
      "\t\tClass 3: 200 images\n",
      "\t\tClass 5: 200 images\n",
      "\t\tClass 0: 200 images\n",
      "\tType test:\n",
      "\t\tClass 6: 50 images\n",
      "\t\tClass 9: 50 images\n",
      "\t\tClass 4: 50 images\n",
      "\t\tClass 1: 50 images\n",
      "\t\tClass 2: 50 images\n",
      "\t\tClass 7: 50 images\n",
      "\t\tClass 8: 50 images\n",
      "\t\tClass 3: 50 images\n",
      "\t\tClass 5: 50 images\n",
      "\t\tClass 0: 50 images\n",
      "Partition 12:\n",
      "\tType train:\n",
      "\t\tClass 6: 200 images\n",
      "\t\tClass 9: 200 images\n",
      "\t\tClass 4: 200 images\n",
      "\t\tClass 1: 200 images\n",
      "\t\tClass 2: 200 images\n",
      "\t\tClass 7: 200 images\n",
      "\t\tClass 8: 200 images\n",
      "\t\tClass 3: 200 images\n",
      "\t\tClass 5: 200 images\n",
      "\t\tClass 0: 200 images\n",
      "\tType test:\n",
      "\t\tClass 6: 50 images\n",
      "\t\tClass 9: 50 images\n",
      "\t\tClass 4: 50 images\n",
      "\t\tClass 1: 50 images\n",
      "\t\tClass 2: 50 images\n",
      "\t\tClass 7: 50 images\n",
      "\t\tClass 8: 50 images\n",
      "\t\tClass 3: 50 images\n",
      "\t\tClass 5: 50 images\n",
      "\t\tClass 0: 50 images\n",
      "Partition 13:\n",
      "\tType train:\n",
      "\t\tClass 6: 200 images\n",
      "\t\tClass 9: 200 images\n",
      "\t\tClass 4: 200 images\n",
      "\t\tClass 1: 200 images\n",
      "\t\tClass 2: 200 images\n",
      "\t\tClass 7: 200 images\n",
      "\t\tClass 8: 200 images\n",
      "\t\tClass 3: 200 images\n",
      "\t\tClass 5: 200 images\n",
      "\t\tClass 0: 200 images\n",
      "\tType test:\n",
      "\t\tClass 6: 50 images\n",
      "\t\tClass 9: 50 images\n",
      "\t\tClass 4: 50 images\n",
      "\t\tClass 1: 50 images\n",
      "\t\tClass 2: 50 images\n",
      "\t\tClass 7: 50 images\n",
      "\t\tClass 8: 50 images\n",
      "\t\tClass 3: 50 images\n",
      "\t\tClass 5: 50 images\n",
      "\t\tClass 0: 50 images\n",
      "Partition 14:\n",
      "\tType train:\n",
      "\t\tClass 6: 200 images\n",
      "\t\tClass 9: 200 images\n",
      "\t\tClass 4: 200 images\n",
      "\t\tClass 1: 200 images\n",
      "\t\tClass 2: 200 images\n",
      "\t\tClass 7: 200 images\n",
      "\t\tClass 8: 200 images\n",
      "\t\tClass 3: 200 images\n",
      "\t\tClass 5: 200 images\n",
      "\t\tClass 0: 200 images\n",
      "\tType test:\n",
      "\t\tClass 6: 50 images\n",
      "\t\tClass 9: 50 images\n",
      "\t\tClass 4: 50 images\n",
      "\t\tClass 1: 50 images\n",
      "\t\tClass 2: 50 images\n",
      "\t\tClass 7: 50 images\n",
      "\t\tClass 8: 50 images\n",
      "\t\tClass 3: 50 images\n",
      "\t\tClass 5: 50 images\n",
      "\t\tClass 0: 50 images\n",
      "Partition 15:\n",
      "\tType train:\n",
      "\t\tClass 6: 200 images\n",
      "\t\tClass 9: 200 images\n",
      "\t\tClass 4: 200 images\n",
      "\t\tClass 1: 200 images\n",
      "\t\tClass 2: 200 images\n",
      "\t\tClass 7: 200 images\n",
      "\t\tClass 8: 200 images\n",
      "\t\tClass 3: 200 images\n",
      "\t\tClass 5: 200 images\n",
      "\t\tClass 0: 200 images\n",
      "\tType test:\n",
      "\t\tClass 6: 50 images\n",
      "\t\tClass 9: 50 images\n",
      "\t\tClass 4: 50 images\n",
      "\t\tClass 1: 50 images\n",
      "\t\tClass 2: 50 images\n",
      "\t\tClass 7: 50 images\n",
      "\t\tClass 8: 50 images\n",
      "\t\tClass 3: 50 images\n",
      "\t\tClass 5: 50 images\n",
      "\t\tClass 0: 50 images\n",
      "Partition 16:\n",
      "\tType train:\n",
      "\t\tClass 6: 200 images\n",
      "\t\tClass 9: 200 images\n",
      "\t\tClass 4: 200 images\n",
      "\t\tClass 1: 200 images\n",
      "\t\tClass 2: 200 images\n",
      "\t\tClass 7: 200 images\n",
      "\t\tClass 8: 200 images\n",
      "\t\tClass 3: 200 images\n",
      "\t\tClass 5: 200 images\n",
      "\t\tClass 0: 200 images\n",
      "\tType test:\n",
      "\t\tClass 6: 50 images\n",
      "\t\tClass 9: 50 images\n",
      "\t\tClass 4: 50 images\n",
      "\t\tClass 1: 50 images\n",
      "\t\tClass 2: 50 images\n",
      "\t\tClass 7: 50 images\n",
      "\t\tClass 8: 50 images\n",
      "\t\tClass 3: 50 images\n",
      "\t\tClass 5: 50 images\n",
      "\t\tClass 0: 50 images\n",
      "Partition 17:\n",
      "\tType train:\n",
      "\t\tClass 6: 200 images\n",
      "\t\tClass 9: 200 images\n",
      "\t\tClass 4: 200 images\n",
      "\t\tClass 1: 200 images\n",
      "\t\tClass 2: 200 images\n",
      "\t\tClass 7: 200 images\n",
      "\t\tClass 8: 200 images\n",
      "\t\tClass 3: 200 images\n",
      "\t\tClass 5: 200 images\n",
      "\t\tClass 0: 200 images\n",
      "\tType test:\n",
      "\t\tClass 6: 50 images\n",
      "\t\tClass 9: 50 images\n",
      "\t\tClass 4: 50 images\n",
      "\t\tClass 1: 50 images\n",
      "\t\tClass 2: 50 images\n",
      "\t\tClass 7: 50 images\n",
      "\t\tClass 8: 50 images\n",
      "\t\tClass 3: 50 images\n",
      "\t\tClass 5: 50 images\n",
      "\t\tClass 0: 50 images\n",
      "Partition 18:\n",
      "\tType train:\n",
      "\t\tClass 6: 200 images\n",
      "\t\tClass 9: 200 images\n",
      "\t\tClass 4: 200 images\n",
      "\t\tClass 1: 200 images\n",
      "\t\tClass 2: 200 images\n",
      "\t\tClass 7: 200 images\n",
      "\t\tClass 8: 200 images\n",
      "\t\tClass 3: 200 images\n",
      "\t\tClass 5: 200 images\n",
      "\t\tClass 0: 200 images\n",
      "\tType test:\n",
      "\t\tClass 6: 50 images\n",
      "\t\tClass 9: 50 images\n",
      "\t\tClass 4: 50 images\n",
      "\t\tClass 1: 50 images\n",
      "\t\tClass 2: 50 images\n",
      "\t\tClass 7: 50 images\n",
      "\t\tClass 8: 50 images\n",
      "\t\tClass 3: 50 images\n",
      "\t\tClass 5: 50 images\n",
      "\t\tClass 0: 50 images\n",
      "Partition 19:\n",
      "\tType train:\n",
      "\t\tClass 6: 200 images\n",
      "\t\tClass 9: 200 images\n",
      "\t\tClass 4: 200 images\n",
      "\t\tClass 1: 200 images\n",
      "\t\tClass 2: 200 images\n",
      "\t\tClass 7: 200 images\n",
      "\t\tClass 8: 200 images\n",
      "\t\tClass 3: 200 images\n",
      "\t\tClass 5: 200 images\n",
      "\t\tClass 0: 200 images\n",
      "\tType test:\n",
      "\t\tClass 6: 50 images\n",
      "\t\tClass 9: 50 images\n",
      "\t\tClass 4: 50 images\n",
      "\t\tClass 1: 50 images\n",
      "\t\tClass 2: 50 images\n",
      "\t\tClass 7: 50 images\n",
      "\t\tClass 8: 50 images\n",
      "\t\tClass 3: 50 images\n",
      "\t\tClass 5: 50 images\n",
      "\t\tClass 0: 50 images\n"
     ]
    }
   ],
   "source": [
    "partitions = [{\"train\": {}, \"test\": {}} for _ in range(partition_qnt)]\n",
    "\n",
    "for type, classes in data_train.items():\n",
    "    indices = np.arange(len(classes[0]))\n",
    "    np.random.seed(seed)\n",
    "    np.random.shuffle(indices)\n",
    "    for i in range(partition_qnt):\n",
    "        for label, images in classes.items():\n",
    "            partitions[i][type][label] = [classes[label][idx] for idx in indices[i*len(images)//partition_qnt:(i+1)*len(images)//partition_qnt]]\n",
    "        \n",
    "print('\\n'.join([f\"Partition {part_idx}:\\n\" + '\\n'.join([f\"\\tType {type}:\\n\\t\\t\" + '\\n\\t\\t'.join([f\"Class {label}: {len(images)} images\" for label, images in classes.items()]) \n",
    "                                                         for type, classes in part.items()]) \n",
    "                 for part_idx, part in enumerate(partitions)]))"
   ]
  },
  {
   "cell_type": "markdown",
   "metadata": {},
   "source": [
    "Use a cat to verify [partition, type, class, item] structure:"
   ]
  },
  {
   "cell_type": "code",
   "execution_count": 105,
   "metadata": {},
   "outputs": [
    {
     "data": {
      "text/plain": [
       "<matplotlib.image.AxesImage at 0x117cebb10>"
      ]
     },
     "execution_count": 105,
     "metadata": {},
     "output_type": "execute_result"
    },
    {
     "data": {
      "image/png": "[encoded data removed]",
      "text/plain": [
       "<Figure size 640x480 with 1 Axes>"
      ]
     },
     "metadata": {},
     "output_type": "display_data"
    }
   ],
   "source": [
    "plt.imshow(partitions[0]['train'][3][65])"
   ]
  },
  {
   "cell_type": "markdown",
   "metadata": {},
   "source": [
    "Save the partitioned data:"
   ]
  },
  {
   "cell_type": "code",
   "execution_count": 106,
   "metadata": {},
   "outputs": [],
   "source": [
    "for partition_name, partition_data in enumerate(partitions):\n",
    "    file_name = f\"partition_{partition_name + 1}.pkl\"\n",
    "    with open(os.path.join(data_path, file_name), 'wb') as file:\n",
    "        pkl.dump(partition_data, file)"
   ]
  },
  {
   "cell_type": "markdown",
   "metadata": {},
   "source": [
    "Reuse the cat to verify the saved data:"
   ]
  },
  {
   "cell_type": "code",
   "execution_count": 107,
   "metadata": {},
   "outputs": [
    {
     "data": {
      "text/plain": [
       "<matplotlib.image.AxesImage at 0x12721c710>"
      ]
     },
     "execution_count": 107,
     "metadata": {},
     "output_type": "execute_result"
    },
    {
     "data": {
      "image/png": "[encoded data removed]",
      "text/plain": [
       "<Figure size 640x480 with 1 Axes>"
      ]
     },
     "metadata": {},
     "output_type": "display_data"
    }
   ],
   "source": [
    "with open(os.path.join(data_path, 'partition_1.pkl'), 'rb') as file:\n",
    "    loaded = pkl.load(file)\n",
    "plt.imshow(loaded['train'][3][65])"
   ]
  }
 ],
 "metadata": {
  "kernelspec": {
   "display_name": "thesis",
   "language": "python",
   "name": "python3"
  },
  "language_info": {
   "codemirror_mode": {
    "name": "ipython",
    "version": 3
   },
   "file_extension": ".py",
   "mimetype": "text/x-python",
   "name": "python",
   "nbconvert_exporter": "python",
   "pygments_lexer": "ipython3",
   "version": "3.11.0"
  }
 },
 "nbformat": 4,
 "nbformat_minor": 2
}
